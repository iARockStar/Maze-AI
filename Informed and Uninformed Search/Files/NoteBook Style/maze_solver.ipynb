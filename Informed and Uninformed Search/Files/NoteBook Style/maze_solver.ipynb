{
  "cells": [
    {
      "cell_type": "markdown",
      "metadata": {
        "id": "CWUxXPLwErQR"
      },
      "source": [
        "# Import Necessaries"
      ]
    },
    {
      "cell_type": "code",
      "execution_count": null,
      "metadata": {
        "id": "hgGPV6vTErQW"
      },
      "outputs": [],
      "source": [
        "import numpy as np\n",
        "import pygame\n",
        "\n",
        "from enum import Enum \n",
        "import os "
      ]
    },
    {
      "cell_type": "code",
      "source": [
        "os.environ[\"SDL_VIDEODRIVER\"] = \"dummy\" "
      ],
      "metadata": {
        "id": "yn5p9_7H0lGG"
      },
      "execution_count": null,
      "outputs": []
    },
    {
      "cell_type": "markdown",
      "metadata": {
        "id": "LMJwauI7ErQa"
      },
      "source": [
        "# Set Parameters"
      ]
    },
    {
      "cell_type": "code",
      "execution_count": null,
      "metadata": {
        "id": "TFHGXRqWErQb"
      },
      "outputs": [],
      "source": [
        "# parameter to creating the matrix\n",
        "width, height = 4 * 130, 4 * 130\n",
        "rows, cols = 13, 13\n",
        "square_size = width // cols \n",
        "\n",
        "maze_path = 'Maze.npy'"
      ]
    },
    {
      "cell_type": "markdown",
      "metadata": {
        "id": "_atACRBg0fcx"
      },
      "source": [
        "# Load Maze"
      ]
    },
    {
      "cell_type": "code",
      "execution_count": null,
      "metadata": {
        "id": "hP4uXAPz0fcx",
        "outputId": "bb0782fd-d6d8-4aa6-8830-82946adac0bc",
        "colab": {
          "base_uri": "https://localhost:8080/"
        }
      },
      "outputs": [
        {
          "output_type": "execute_result",
          "data": {
            "text/plain": [
              "array([[0., 0., 1., 0., 1., 1., 1., 0., 1., 1., 1., 1., 1.],\n",
              "       [1., 0., 1., 1., 0., 1., 1., 0., 0., 1., 0., 0., 1.],\n",
              "       [1., 0., 1., 0., 0., 1., 0., 0., 0., 1., 0., 1., 0.],\n",
              "       [1., 1., 1., 1., 1., 1., 1., 1., 0., 1., 1., 1., 0.],\n",
              "       [0., 1., 0., 1., 0., 0., 0., 1., 0., 1., 1., 1., 0.],\n",
              "       [1., 1., 0., 1., 0., 1., 1., 1., 0., 0., 0., 1., 1.],\n",
              "       [0., 0., 0., 1., 0., 1., 1., 0., 1., 1., 1., 1., 1.],\n",
              "       [1., 1., 1., 1., 1., 1., 0., 0., 0., 0., 1., 0., 0.],\n",
              "       [1., 0., 0., 0., 1., 1., 1., 0., 1., 1., 1., 0., 1.],\n",
              "       [1., 1., 1., 0., 1., 0., 1., 1., 0., 1., 0., 0., 1.],\n",
              "       [1., 0., 0., 0., 0., 0., 1., 0., 1., 1., 0., 1., 1.],\n",
              "       [1., 1., 0., 1., 0., 1., 1., 0., 1., 0., 0., 0., 1.],\n",
              "       [1., 1., 1., 1., 1., 1., 1., 1., 1., 1., 1., 1., 1.]])"
            ]
          },
          "metadata": {},
          "execution_count": 5
        }
      ],
      "source": [
        "Maze = np.load(maze_path)\n",
        "\n",
        "Maze"
      ]
    },
    {
      "cell_type": "markdown",
      "metadata": {
        "id": "2oc1blpvErQc"
      },
      "source": [
        "# Create Board"
      ]
    },
    {
      "cell_type": "code",
      "execution_count": null,
      "metadata": {
        "id": "U9IbLhOiErQd"
      },
      "outputs": [],
      "source": [
        "class colors(Enum):\n",
        "\n",
        "  # RGB colors\n",
        "  red = (255, 0, 0)\n",
        "  white = (255, 255, 255)\n",
        "  black = (0, 0, 0)\n",
        "  blue = (0, 0, 255)\n",
        "  evenColor = (63, 63, 63)\n",
        "  oddColor = (70, 70, 70)\n",
        "  blockColor = (28, 18, 18)\n",
        "  startColor = (58, 42, 10)\n",
        "  endColor = (0, 244, 11)\n",
        "  playerColor = (12, 100, 150)\n",
        "  green = (0, 255, 0)\n",
        "  selectionColor = (12, 232, 255)"
      ]
    },
    {
      "cell_type": "code",
      "execution_count": null,
      "metadata": {
        "id": "EgE1sQb2ErQe"
      },
      "outputs": [],
      "source": [
        "class Tile:\n",
        "\n",
        "    def __init__(self, x, y):\n",
        "        self.x = x\n",
        "        self.y = y\n",
        "        self.contains_player = False\n",
        "        self.isStart = False\n",
        "        self.isGoal = False\n",
        "        self.isBlocked = False\n",
        "\n",
        "        if (x + y) % 2 == 0:\n",
        "            self.color = colors.evenColor.value\n",
        "        else:\n",
        "            self.color = colors.oddColor.value\n",
        "\n",
        "    def block(self):\n",
        "        self.isBlocked = True\n",
        "        self.color = colors.blockColor.value\n",
        "\n",
        "    def unblock(self):\n",
        "        self.isBlocked = False\n",
        "        if (self.get_coordinates()[0] + self.get_coordinates()[1]) % 2 == 0:\n",
        "            self.color = colors.evenColor.value\n",
        "        else:\n",
        "            self.color = colors.oddColor.value\n",
        "\n",
        "    def get_coordinates(self):\n",
        "        return self.x, self.y\n",
        "\n",
        "    def set_color(self, color):\n",
        "        self.color = color\n",
        "\n",
        "    def get_color(self):\n",
        "        return self.color\n",
        "\n",
        "    def get_rect(self):\n",
        "        return (\n",
        "            self.get_coordinates()[0] * square_size, self.get_coordinates()[1] * square_size, square_size, square_size)\n",
        "\n",
        "    def make_start(self):\n",
        "        self.isStart = True\n",
        "        self.color = colors.startColor.value\n",
        "\n",
        "    def make_goal(self):\n",
        "        self.isGoal = True\n",
        "        self.color = colors.endColor.value\n",
        "\n",
        "    def contains_player(self):\n",
        "        return self.contains_player\n",
        "\n",
        "    def set_player_here(self):\n",
        "        self.contains_player = True\n",
        "        self.color = colors.playerColor.value\n",
        "\n",
        "    def is_inside_me(self, mousePos):\n",
        "        rectangle = pygame.Rect(self.get_rect())\n",
        "        return True if rectangle.collidepoint(mousePos[0], mousePos[1]) else False\n",
        "\n",
        "    def is_blocked(self):\n",
        "        return self.isBlocked\n"
      ]
    },
    {
      "cell_type": "code",
      "execution_count": null,
      "metadata": {
        "id": "l-U2-kLFErQg"
      },
      "outputs": [],
      "source": [
        "class Board:\n",
        "    def __init__(self, start, end):\n",
        "        self.boardArray = []\n",
        "        arraynump = Maze\n",
        "\n",
        "        # initializing 2D matrix as board:\n",
        "        for row in range(rows):\n",
        "            self.boardArray.append([])\n",
        "            for col in range(cols):\n",
        "                self.boardArray[row].append(Tile(row, col))\n",
        "\n",
        "        # locking tiles based on maze file :\n",
        "        for i in range(rows):\n",
        "            for j in range(cols):\n",
        "                if arraynump[j][i] == 0:\n",
        "                    self.boardArray[i][j].block()\n",
        "\n",
        "        # setting positions :\n",
        "        # setting start positions :\n",
        "        self.start_pos = start['x'], start['y']\n",
        "        (self.boardArray[start['x']][start['y']]).make_start()\n",
        "\n",
        "        # setting player position like start position\n",
        "        self.agent_pos = start['x'], start['y']\n",
        "        (self.boardArray[start['x']][start['y']]).set_player_here()\n",
        "\n",
        "        # setting goal position :\n",
        "        self.goal_pos = end['x'], end['y']\n",
        "        (self.boardArray[end['x']][end['y']]).make_goal()\n",
        "\n",
        "    # draws the matrix:\n",
        "    def draw_tiles(self, win):\n",
        "        for row in range(rows):\n",
        "            for col in range(cols):\n",
        "                tile = self.boardArray[row][col]\n",
        "                pygame.draw.rect(win, tile.get_color(), tile.get_rect())\n",
        "\n",
        "    # draws the matrix and shows on screen - use this method to display your outcomes\n",
        "    def draw_world(self, win):\n",
        "        self.draw_tiles(win) \n",
        "        pygame.display.update()\n",
        "\n",
        "    def get_current_state(self):\n",
        "        return self.boardArray\n",
        "\n",
        "    def get_agent_pos(self):\n",
        "        return self.agent_pos\n",
        "\n",
        "    # Updates the matrix values\n",
        "    def update_board(self, new_state):\n",
        "        self.boardArray = new_state\n",
        "\n",
        "    def set_agent_pos(self, new_pos):\n",
        "\n",
        "        self.agent_pos = new_pos['x'], new_pos['y']\n",
        "        (self.boardArray[new_pos['x']][new_pos['y']]).set_player_here()\n",
        "\n",
        "    def colorize(self, x, y, color):\n",
        "        self.boardArray[x][y].set_color(color)\n"
      ]
    },
    {
      "cell_type": "markdown",
      "metadata": {
        "id": "aiAlrKgIErQh"
      },
      "source": [
        "# Your Code (Agent)"
      ]
    },
    {
      "cell_type": "code",
      "execution_count": null,
      "metadata": {
        "id": "-rdpJdUFErQh"
      },
      "outputs": [],
      "source": [
        "class Agent:\n",
        "    def __init__(self, board):\n",
        "        self.position = board.get_agent_pos()\n",
        "        self.current_state = board.get_current_state()\n",
        "\n",
        "    def get_position(self):\n",
        "        return self.position\n",
        "\n",
        "    def set_position(self, position, board):\n",
        "        self.position = position\n",
        "        board.set_agent_pos(position)\n",
        "        board.update_board(self.current_state)\n",
        "\n",
        "    def percept(self, board):\n",
        "        # perception :\n",
        "        # sets the current state\n",
        "        # Use get_current_state function to get the maze matrix. - make your state\n",
        "        self.current_state = board.get_current_state()\n",
        "\n",
        "        pass\n",
        "\n",
        "    def move(self, direction, board):\n",
        "        # make your next move based on your perception\n",
        "        # check if the move destination is not blocked\n",
        "        # if not blocked , move to destination - set new position\n",
        "        # if you want to show visited tiles, use red color.\n",
        "        # something like :\n",
        "        current_pos = self.get_position()\n",
        "        x, y = current_pos[0], current_pos[1]\n",
        "        board.colorize(x, y, colors.red.value)\n",
        "        self.set_position(self.get_position() + direction)\n",
        "\n",
        "        pass\n",
        "\n",
        "    @staticmethod\n",
        "    def get_actions():\n",
        "        actions = []\n",
        "        # returns a list of valid actions\n",
        "        return actions\n",
        "\n",
        "    def bfs(self, environment):\n",
        "        self.percept(environment)\n",
        "        # now go on !\n",
        "        \n",
        "        # use green color and colorize method to show the path. \n",
        "        \n",
        "        pass\n",
        "\n",
        "    def dfs(self, environment):\n",
        "        pass\n",
        "\n",
        "    def a_star(self, environment):\n",
        "        pass\n"
      ]
    },
    {
      "cell_type": "markdown",
      "metadata": {
        "id": "mHISYNaOErQi"
      },
      "source": [
        "# Main"
      ]
    },
    {
      "cell_type": "code",
      "execution_count": null,
      "metadata": {
        "id": "vUjZXakRErQj"
      },
      "outputs": [],
      "source": [
        "# initialize:\n",
        "FPS = 60\n",
        "pygame.init()\n",
        "WIN = pygame.display.set_mode((width, height))\n",
        "pygame.display.set_caption(\"Search Game\")\n",
        "\n",
        "# setting start and end point :\n",
        "start = {'x': 6, 'y': 0}\n",
        "end = {'x': 12, 'y': 0}\n",
        "\n",
        "gameBoard = Board(start, end)\n",
        "agent = Agent(gameBoard)\n",
        "\n",
        "def main():\n",
        "    run = True\n",
        "    clock = pygame.time.Clock()\n",
        "    WIN.fill(colors.black.value)\n",
        "\n",
        "    while run:\n",
        "        clock.tick(FPS)\n",
        "\n",
        "        for event in pygame.event.get():\n",
        "            if event.type == pygame.QUIT:\n",
        "                run = False\n",
        "                \n",
        "        \n",
        "            # pos = pygame.mouse.get_pos()  # gets the current mouse coords\n",
        "            # if event.type == pygame.MOUSEBUTTONDOWN:\n",
        "            #     for i in range(rows):\n",
        "            #         for j in range(cols):\n",
        "            #             rect = gameBoard.boardArray[i][j]\n",
        "            #             if rect.is_inside_me(pos):\n",
        "            \n",
        "            #                 if event.button == 1:\n",
        "            #                     gameBoard.boardArray[i][j].block()\n",
        "            #                 if event.button == 3:\n",
        "            #                     gameBoard.boardArray[i][j].unblock()\n",
        "\n",
        "        gameBoard.draw_world(WIN)\n",
        "\n",
        "    pygame.quit()"
      ]
    },
    {
      "cell_type": "code",
      "execution_count": null,
      "metadata": {
        "id": "oWQyzDrNErQk"
      },
      "outputs": [],
      "source": [
        "main()"
      ]
    }
  ],
  "metadata": {
    "colab": {
      "provenance": [],
      "collapsed_sections": [
        "CWUxXPLwErQR",
        "LMJwauI7ErQa",
        "_atACRBg0fcx",
        "2oc1blpvErQc",
        "aiAlrKgIErQh",
        "mHISYNaOErQi"
      ]
    },
    "kernelspec": {
      "display_name": "Python 3",
      "language": "python",
      "name": "python3"
    },
    "language_info": {
      "codemirror_mode": {
        "name": "ipython",
        "version": 3
      },
      "file_extension": ".py",
      "mimetype": "text/x-python",
      "name": "python",
      "nbconvert_exporter": "python",
      "pygments_lexer": "ipython3",
      "version": "3.9.12"
    },
    "orig_nbformat": 4,
    "vscode": {
      "interpreter": {
        "hash": "11938c6bc6919ae2720b4d5011047913343b08a43b18698fd82dedb0d4417594"
      }
    }
  },
  "nbformat": 4,
  "nbformat_minor": 0
}